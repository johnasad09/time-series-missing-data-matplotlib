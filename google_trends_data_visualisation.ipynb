# IMPORT STATEMENTS
import pandas as pd
import matplotlib.pyplot as plt
import matplotlib.dates as mdates
# Register date converters to avoid warning messages
from pandas.plotting import register_matplotlib_converters
register_matplotlib_converters()


# READ DATA
df_tesla = pd.read_csv('TESLA Search Trend vs Price.csv')

df_btc_search = pd.read_csv('Bitcoin Search Trend.csv')

df_btc_price = pd.read_csv('Daily Bitcoin Price.csv')

df_unemployment = pd.read_csv('UE Benefits Search vs UE Rate 2004-19.csv')


# DATA EXPLORATION #

# TESLA
print(df_tesla.shape)
df_tesla.head()

df_tesla.sort_values(by='TSLA_WEB_SEARCH', ascending=False)

df_tesla.describe()

print(f'Largest value for Tesla in Web Search: {df_tesla.TSLA_WEB_SEARCH.max()} ')
print(f'Smallest value for Tesla in Web Search: {df_tesla.TSLA_WEB_SEARCH.min()}')

# UNEMPLOYMENT DATA
print(df_unemployment.shape)
df_unemployment.head()

print('Largest value for "Unemployemnt Benefits" '
      f'in Web Search: {df_unemployment.UE_BENEFITS_WEB_SEARCH.max()}')

# BITCOIN
print(df_btc_search.shape)
df_btc_search.head()

print(f'largest BTC News Search: {df_btc_search.BTC_NEWS_SEARCH.max()} ')


# DATA CLEANING #

# CHECKING FOR MISSING VALUES
print(f'Missing values for Tesla?: {df_tesla.isna().any()}')
print(f'Missing values for U/E?: {df_unemployment.isna().any()}')
print(f'Missing values for BTC Search?: {df_btc_search.isna().any()} ')
print(f'Missing values for BTC price?:{df_btc_price.isna().any()} ')

# BTC PRICE HAS SOME MISSING VALUES
print(f'Number of missing values: {df_btc_price.isna().values.sum()} ')
df_btc_price[df_btc_price.isna().any(axis=1)]

# REMOVING MISSING VALUES
df_btc_price.dropna(inplace=True)

# CHECKING DATA TYPE
print(df_btc_price.head())
df_btc_price.dtypes

# DATE/MONTH COLUMN DATA TYPE IS OBJECT SO WE HAVE TO CONVERT IT INTO DATE
df_btc_price.DATE = pd.to_datetime(df_btc_price.DATE)
df_btc_search.MONTH = pd.to_datetime(df_btc_search.MONTH)
df_unemployment.MONTH = pd.to_datetime(df_unemployment.MONTH)
df_tesla.MONTH = pd.to_datetime(df_tesla.MONTH)
print(df_btc_price.dtypes)
print(df_btc_search.dtypes)
print(df_unemployment.dtypes)
print(df_tesla.dtypes)

#BITCOIN PRICE IS DAILY DATA, AND BITCOIN SEARCH POPULARITY IS MONTHLY DATA
# CONVERT DAILY DATA INTO MONTHLY DATA BY RESAMPLING
#we use last() because we want the price that is at the end of the month.
df_btc_monthly = df_btc_price.resample('ME', on='DATE').last()

# if we wanted the average price then we use mean() 
# df_btc_monthly = df_btc_price.resample('ME', on='DATE').mean()

# DATA VISUALIZATION
# Create locators for ticks on the time axis
years = mdates.YearLocator()
months = mdates.MonthLocator()
years_fmt = mdates.DateFormatter('%Y')


# ---------------PLOTING FOR TESLA SEARCH AND PRICE -----------------------#
plt.figure(figsize=(14,8), dpi=100)
plt.title('Tesla Web Search vs Price', fontsize=18)
 
# Increase the size and rotate the labels on the x-axis
plt.xticks(fontsize=14, rotation=45)
 
ax1 = plt.gca()
ax2 = ax1.twinx()
 
ax1.set_ylabel('TSLA Stock Price', color='#E6232E', fontsize=14)
ax2.set_ylabel('Search Trend', color='skyblue', fontsize=14)
 
ax1.xaxis.set_major_locator(years)
ax1.xaxis.set_major_formatter(years_fmt)
ax1.xaxis.set_minor_locator(months)

# Set the minimum and maximum values on the axes
ax1.set_ylim([0, 600])
ax1.set_xlim([df_tesla.MONTH.min(), df_tesla.MONTH.max()])
 
ax1.plot(df_tesla.MONTH, df_tesla.TSLA_USD_CLOSE, color='#E6232E', linewidth=3)
ax2.plot(df_tesla.MONTH, df_tesla.TSLA_WEB_SEARCH, color='skyblue', linewidth=3)
 
plt.show()


#  -----------------------PLOTTING FOR BITCOIN SEARCH AND PRICE -----------------------#
plt.figure(figsize=(14,8), dpi=100)
plt.title('Bitcoin News Search vs Resampled Price', fontsize=18)
 
# Increase the size and rotate the labels on the x-axis
plt.xticks(fontsize=14, rotation=45)
 
ax1 = plt.gca()
ax2 = ax1.twinx()
 
ax1.set_ylabel('BTC Price', color='#E6232E', fontsize=14)
ax2.set_ylabel('Search Trend', color='skyblue', fontsize=14)
 
ax1.xaxis.set_major_locator(years)
ax1.xaxis.set_major_formatter(years_fmt)
ax1.xaxis.set_minor_locator(months)

# Set the minimum and maximum values on the axes
ax1.set_ylim([0, 15000])
ax1.set_xlim([df_btc_monthly.index.min(), df_btc_monthly.index.max()])
 
ax1.plot(df_btc_monthly.index, df_btc_monthly.CLOSE, color='#E6232E', linewidth=3, linestyle='--')
ax2.plot(df_btc_monthly.index, df_btc_search.BTC_NEWS_SEARCH, color='skyblue', linewidth=3, marker='o')
 
plt.show()

#  -----------------------PLOTTING FOR UNEMPLOYMENT SEARCH AND RATE UPTO 2019 -----------------------#
plt.figure(figsize=(14,8), dpi=120)
plt.title('Rolling Monthly US "Unemployment Benefits" Web Searches vs UNRATE', fontsize=18)
plt.yticks(fontsize=14)
plt.xticks(fontsize=14, rotation=45)
 
ax1 = plt.gca()
ax2 = ax1.twinx()
 
ax1.xaxis.set_major_locator(years)
ax1.xaxis.set_major_formatter(years_fmt)
ax1.xaxis.set_minor_locator(months)
 
ax1.set_ylabel('FRED U/E Rate', color='purple', fontsize=16)
ax2.set_ylabel('Search Trend', color='skyblue', fontsize=16)
 
ax1.set_ylim(bottom=3, top=10.5)
ax1.set_xlim([df_unemployment.MONTH[0], df_unemployment.MONTH.max()])

# THE GRAPH IS NOT SMOOTH SO WE ROLL THE DATA
# Calculate the rolling average over a 6 month window
roll_df = df_unemployment[['UE_BENEFITS_WEB_SEARCH', 'UNRATE']].rolling(window=6).mean()
 
ax1.plot(df_unemployment.MONTH, roll_df.UNRATE, 'purple', linewidth=3, linestyle='-.')
ax2.plot(df_unemployment.MONTH, roll_df.UE_BENEFITS_WEB_SEARCH, 'skyblue', linewidth=3)
 
plt.show()

#  -----------------------PLOTTING FOR UNEMPLOYMENT SEARCH AND RATE UPTO 2020 -----------------------#
df_ue_2020 = pd.read_csv('UE Benefits Search vs UE Rate 2004-20.csv')
df_ue_2020.MONTH = pd.to_datetime(df_ue_2020.MONTH)

plt.figure(figsize=(14,8), dpi=120)
plt.yticks(fontsize=14)
plt.xticks(fontsize=14, rotation=45)
plt.title('Monthly US "Unemployment Benefits" Web Search vs UNRATE incl 2020', fontsize=18)
 
ax1 = plt.gca()
ax2 = ax1.twinx()
 
ax1.set_ylabel('FRED U/E Rate', color='purple', fontsize=16)
ax2.set_ylabel('Search Trend', color='skyblue', fontsize=16)
 
ax1.set_xlim([df_ue_2020.MONTH.min(), df_ue_2020.MONTH.max()])
 
ax1.plot(df_ue_2020.MONTH, df_ue_2020.UNRATE, 'purple', linewidth=3)
ax2.plot(df_ue_2020.MONTH, df_ue_2020.UE_BENEFITS_WEB_SEARCH, 'skyblue', linewidth=3)
 
plt.show()
